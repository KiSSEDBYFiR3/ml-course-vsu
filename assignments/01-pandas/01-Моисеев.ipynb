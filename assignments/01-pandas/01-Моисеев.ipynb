{
 "cells": [
  {
   "attachments": {},
   "cell_type": "markdown",
   "metadata": {},
   "source": [
    "# Задание 1. Работа с Pandas, анализ и обработка данных.\n",
    "\n",
    "В этом задании вам предстоит поработать с библиотекой Pandas, предназначенной для удобного анализа и обработки данных.\n",
    "\n",
    "**Датасет**: данные о землетрясениях с 01.01.2001 по 01.01.2023 в разных частях мира. [Ссылка](https://www.kaggle.com/datasets/warcoder/earthquake-dataset) на датасет.\n",
    "\n",
    "**Описание признаков:**\n",
    "- `title`: название землетрясения\n",
    "- `magnitude`: магнитуда\n",
    "- `date_time`: дата и время\n",
    "- `cdi`: максимальная заявленная интенсивность\n",
    "- `mmi`: максимальная предполагаемая интенсивность, зафиксированная приборами\n",
    "- `alert`: уровень опасности/тревоги/оповещения\n",
    "- `tsunami`: \"1\" для землетрясения в океанском регионе и \"0\" в остальных случаях\n",
    "- `sig`: число показывающее, насколько \"значимым\" было землетрясение. Складывается из магнитуды, максимальной интенсивности, ущерба и т.д.\n",
    "- `net`: ID источника информации\n",
    "- `nst`: количество сейсмических станций, которые использовались для определения расположения землетрясения\n",
    "- `dmin`: горизонтальное расстояние от эпицентра до ближайшей станции\n",
    "- `gap`: наибольший азимутальный зазор между соседними по азимуту станциями (подробности см. на странице датасета)\n",
    "- `magType`: метод или алгоритм, используемый для расчета магнитуды\n",
    "- `depth`: глубина\n",
    "- `latitude/longitude`: широта/долгота\n",
    "- `location`: место внутри страны\n",
    "- `continent`: континент\n",
    "- `country`: пострадавшая страна\n",
    "\n",
    "\n",
    "Полезные ресурсы:\n",
    "- [Документация pandas](https://pandas.pydata.org/docs/)\n",
    "- [Шпаргалка по Pandas](https://pandas.pydata.org/Pandas_Cheat_Sheet.pdf)\n",
    "- [Мини-курс](https://www.kaggle.com/learn/pandas) по pandas на Kaggle\n",
    "\n",
    "**Замечание**: старайтесь избегать лишних циклов при работе с данными. Pandas содержит множество функций и методов, с помощью которых можно решить проблему красиво и лаконично."
   ]
  },
  {
   "attachments": {},
   "cell_type": "markdown",
   "metadata": {},
   "source": [
    "- Импортируйте необходимые библиотеки и загрузите данные (файл `AllSatellites.csv`) с помощью pandas. Удостоверьтесь, что тип переменной - `Dataframe`"
   ]
  },
  {
   "cell_type": "code",
   "execution_count": 1,
   "metadata": {},
   "outputs": [
    {
     "data": {
      "text/plain": [
       "pandas.core.frame.DataFrame"
      ]
     },
     "execution_count": 1,
     "metadata": {},
     "output_type": "execute_result"
    }
   ],
   "source": [
    "import pandas as pd\n",
    "import numpy as np\n",
    "\n",
    "earthquake_data = pd.read_csv('earthquake_data.csv')\n",
    "type(earthquake_data)"
   ]
  },
  {
   "attachments": {},
   "cell_type": "markdown",
   "metadata": {},
   "source": [
    "- Отобразите первые 5 строк с помощью метода `head`"
   ]
  },
  {
   "cell_type": "code",
   "execution_count": 2,
   "metadata": {},
   "outputs": [
    {
     "data": {
      "text/html": [
       "<div>\n",
       "<style scoped>\n",
       "    .dataframe tbody tr th:only-of-type {\n",
       "        vertical-align: middle;\n",
       "    }\n",
       "\n",
       "    .dataframe tbody tr th {\n",
       "        vertical-align: top;\n",
       "    }\n",
       "\n",
       "    .dataframe thead th {\n",
       "        text-align: right;\n",
       "    }\n",
       "</style>\n",
       "<table border=\"1\" class=\"dataframe\">\n",
       "  <thead>\n",
       "    <tr style=\"text-align: right;\">\n",
       "      <th></th>\n",
       "      <th>title</th>\n",
       "      <th>magnitude</th>\n",
       "      <th>date_time</th>\n",
       "      <th>cdi</th>\n",
       "      <th>mmi</th>\n",
       "      <th>alert</th>\n",
       "      <th>tsunami</th>\n",
       "      <th>sig</th>\n",
       "      <th>net</th>\n",
       "      <th>nst</th>\n",
       "      <th>dmin</th>\n",
       "      <th>gap</th>\n",
       "      <th>magType</th>\n",
       "      <th>depth</th>\n",
       "      <th>latitude</th>\n",
       "      <th>longitude</th>\n",
       "      <th>location</th>\n",
       "      <th>continent</th>\n",
       "      <th>country</th>\n",
       "    </tr>\n",
       "  </thead>\n",
       "  <tbody>\n",
       "    <tr>\n",
       "      <th>0</th>\n",
       "      <td>M 7.0 - 18 km SW of Malango, Solomon Islands</td>\n",
       "      <td>7.0</td>\n",
       "      <td>22-11-2022 02:03</td>\n",
       "      <td>8</td>\n",
       "      <td>7</td>\n",
       "      <td>green</td>\n",
       "      <td>1</td>\n",
       "      <td>768</td>\n",
       "      <td>us</td>\n",
       "      <td>117</td>\n",
       "      <td>0.509</td>\n",
       "      <td>17.0</td>\n",
       "      <td>mww</td>\n",
       "      <td>14.000</td>\n",
       "      <td>-9.7963</td>\n",
       "      <td>159.596</td>\n",
       "      <td>Malango, Solomon Islands</td>\n",
       "      <td>Oceania</td>\n",
       "      <td>Solomon Islands</td>\n",
       "    </tr>\n",
       "    <tr>\n",
       "      <th>1</th>\n",
       "      <td>M 6.9 - 204 km SW of Bengkulu, Indonesia</td>\n",
       "      <td>6.9</td>\n",
       "      <td>18-11-2022 13:37</td>\n",
       "      <td>4</td>\n",
       "      <td>4</td>\n",
       "      <td>green</td>\n",
       "      <td>0</td>\n",
       "      <td>735</td>\n",
       "      <td>us</td>\n",
       "      <td>99</td>\n",
       "      <td>2.229</td>\n",
       "      <td>34.0</td>\n",
       "      <td>mww</td>\n",
       "      <td>25.000</td>\n",
       "      <td>-4.9559</td>\n",
       "      <td>100.738</td>\n",
       "      <td>Bengkulu, Indonesia</td>\n",
       "      <td>NaN</td>\n",
       "      <td>NaN</td>\n",
       "    </tr>\n",
       "    <tr>\n",
       "      <th>2</th>\n",
       "      <td>M 7.0 -</td>\n",
       "      <td>7.0</td>\n",
       "      <td>12-11-2022 07:09</td>\n",
       "      <td>3</td>\n",
       "      <td>3</td>\n",
       "      <td>green</td>\n",
       "      <td>1</td>\n",
       "      <td>755</td>\n",
       "      <td>us</td>\n",
       "      <td>147</td>\n",
       "      <td>3.125</td>\n",
       "      <td>18.0</td>\n",
       "      <td>mww</td>\n",
       "      <td>579.000</td>\n",
       "      <td>-20.0508</td>\n",
       "      <td>-178.346</td>\n",
       "      <td>NaN</td>\n",
       "      <td>Oceania</td>\n",
       "      <td>Fiji</td>\n",
       "    </tr>\n",
       "    <tr>\n",
       "      <th>3</th>\n",
       "      <td>M 7.3 - 205 km ESE of Neiafu, Tonga</td>\n",
       "      <td>7.3</td>\n",
       "      <td>11-11-2022 10:48</td>\n",
       "      <td>5</td>\n",
       "      <td>5</td>\n",
       "      <td>green</td>\n",
       "      <td>1</td>\n",
       "      <td>833</td>\n",
       "      <td>us</td>\n",
       "      <td>149</td>\n",
       "      <td>1.865</td>\n",
       "      <td>21.0</td>\n",
       "      <td>mww</td>\n",
       "      <td>37.000</td>\n",
       "      <td>-19.2918</td>\n",
       "      <td>-172.129</td>\n",
       "      <td>Neiafu, Tonga</td>\n",
       "      <td>NaN</td>\n",
       "      <td>NaN</td>\n",
       "    </tr>\n",
       "    <tr>\n",
       "      <th>4</th>\n",
       "      <td>M 6.6 -</td>\n",
       "      <td>6.6</td>\n",
       "      <td>09-11-2022 10:14</td>\n",
       "      <td>0</td>\n",
       "      <td>2</td>\n",
       "      <td>green</td>\n",
       "      <td>1</td>\n",
       "      <td>670</td>\n",
       "      <td>us</td>\n",
       "      <td>131</td>\n",
       "      <td>4.998</td>\n",
       "      <td>27.0</td>\n",
       "      <td>mww</td>\n",
       "      <td>624.464</td>\n",
       "      <td>-25.5948</td>\n",
       "      <td>178.278</td>\n",
       "      <td>NaN</td>\n",
       "      <td>NaN</td>\n",
       "      <td>NaN</td>\n",
       "    </tr>\n",
       "  </tbody>\n",
       "</table>\n",
       "</div>"
      ],
      "text/plain": [
       "                                          title  magnitude         date_time   \n",
       "0  M 7.0 - 18 km SW of Malango, Solomon Islands        7.0  22-11-2022 02:03  \\\n",
       "1      M 6.9 - 204 km SW of Bengkulu, Indonesia        6.9  18-11-2022 13:37   \n",
       "2                                      M 7.0 -         7.0  12-11-2022 07:09   \n",
       "3           M 7.3 - 205 km ESE of Neiafu, Tonga        7.3  11-11-2022 10:48   \n",
       "4                                      M 6.6 -         6.6  09-11-2022 10:14   \n",
       "\n",
       "   cdi  mmi  alert  tsunami  sig net  nst   dmin   gap magType    depth   \n",
       "0    8    7  green        1  768  us  117  0.509  17.0     mww   14.000  \\\n",
       "1    4    4  green        0  735  us   99  2.229  34.0     mww   25.000   \n",
       "2    3    3  green        1  755  us  147  3.125  18.0     mww  579.000   \n",
       "3    5    5  green        1  833  us  149  1.865  21.0     mww   37.000   \n",
       "4    0    2  green        1  670  us  131  4.998  27.0     mww  624.464   \n",
       "\n",
       "   latitude  longitude                  location continent          country  \n",
       "0   -9.7963    159.596  Malango, Solomon Islands   Oceania  Solomon Islands  \n",
       "1   -4.9559    100.738       Bengkulu, Indonesia       NaN              NaN  \n",
       "2  -20.0508   -178.346                       NaN   Oceania             Fiji  \n",
       "3  -19.2918   -172.129             Neiafu, Tonga       NaN              NaN  \n",
       "4  -25.5948    178.278                       NaN       NaN              NaN  "
      ]
     },
     "execution_count": 2,
     "metadata": {},
     "output_type": "execute_result"
    }
   ],
   "source": [
    "earthquake_data.head(5)"
   ]
  },
  {
   "attachments": {},
   "cell_type": "markdown",
   "metadata": {},
   "source": [
    "- Сколько всего признаков имеется в данных и сколько объектов (землетрясений) в датасете?"
   ]
  },
  {
   "cell_type": "code",
   "execution_count": 4,
   "metadata": {},
   "outputs": [
    {
     "name": "stdout",
     "output_type": "stream",
     "text": [
      "Количество объектов: 782\n",
      "Количество признаков: 19\n"
     ]
    }
   ],
   "source": [
    "print(f\"Количество объектов: {len(earthquake_data)}\")\n",
    "print(f\"Количество признаков: {len(earthquake_data.columns)}\")"
   ]
  },
  {
   "attachments": {},
   "cell_type": "markdown",
   "metadata": {},
   "source": [
    "- Попробуйте отобразить информацию о датасете с помощью метода `describe`. Выведите название (`title`) землетрясения, для регистрации которого использовалось максимальное количество сейсмических станций."
   ]
  },
  {
   "cell_type": "code",
   "execution_count": 5,
   "metadata": {},
   "outputs": [
    {
     "data": {
      "text/plain": [
       "427    M 7.3 - 11 km WNW of San Agustín, Colombia\n",
       "Name: title, dtype: object"
      ]
     },
     "execution_count": 5,
     "metadata": {},
     "output_type": "execute_result"
    }
   ],
   "source": [
    "max_length = earthquake_data['nst'].describe().max()\n",
    "earthquake_data.loc[earthquake_data['nst'] == max_length][\"title\"]"
   ]
  },
  {
   "attachments": {},
   "cell_type": "markdown",
   "metadata": {},
   "source": [
    "- Сколько типов \"уровней опасности\" имеется в датасете?"
   ]
  },
  {
   "cell_type": "code",
   "execution_count": 6,
   "metadata": {},
   "outputs": [
    {
     "name": "stdout",
     "output_type": "stream",
     "text": [
      "Число уровней опасности:  4\n"
     ]
    }
   ],
   "source": [
    "print(\"Число уровней опасности: \", len(earthquake_data[\"alert\"].value_counts()))"
   ]
  },
  {
   "attachments": {},
   "cell_type": "markdown",
   "metadata": {},
   "source": [
    "- Найдите, сколько землетрясений было в океанских регионах и сколько на суше."
   ]
  },
  {
   "cell_type": "code",
   "execution_count": 7,
   "metadata": {},
   "outputs": [
    {
     "name": "stdout",
     "output_type": "stream",
     "text": [
      "Землетрясений в океанских регионах:  4\n",
      "Землетрясений на суше :  93\n"
     ]
    }
   ],
   "source": [
    "print(\"Землетрясений в океанских регионах: \", len(earthquake_data[\"continent\"].loc[earthquake_data[\"continent\"] == \"Oceania\"]))\n",
    "print(\"Землетрясений на суше : \", len(earthquake_data.dropna()[\"continent\"].loc[earthquake_data[\"continent\"] != \"Oceania\"]))"
   ]
  },
  {
   "attachments": {},
   "cell_type": "markdown",
   "metadata": {},
   "source": [
    "- Информация о скольких странах присутствует в наборе данных? Выведите список стран, для которых есть хотя бы один объект с признаком `tsunami == 1` и найдите их количество."
   ]
  },
  {
   "cell_type": "code",
   "execution_count": 8,
   "metadata": {},
   "outputs": [
    {
     "name": "stdout",
     "output_type": "stream",
     "text": [
      "Кол-во стран, где 'tsunami' = 1 : 26\n",
      "Список стран, где 'tsunami' = 1 :\n",
      "0                                        Solomon Islands\n",
      "2                                                   Fiji\n",
      "7                                                 Panama\n",
      "8                                                 Mexico\n",
      "10                                                Taiwan\n",
      "13                                      Papua New Guinea\n",
      "16                                           Philippines\n",
      "18                                                  Peru\n",
      "20                                             Argentina\n",
      "41                                             Indonesia\n",
      "44                              United States of America\n",
      "49                                            Antarctica\n",
      "51                                               Vanuatu\n",
      "53                                                 Haiti\n",
      "68                                                 Japan\n",
      "87                                                 Chile\n",
      "106                                               Russia\n",
      "118    United Kingdom of Great Britain and Northern I...\n",
      "135                                              Ecuador\n",
      "144         South Georgia and the South Sandwich Islands\n",
      "168                                            Venezuela\n",
      "189                                           Costa Rica\n",
      "205                                            Guatemala\n",
      "232                                          New Zealand\n",
      "350                                            Nicaragua\n",
      "408                                             Colombia\n",
      "Name: country, dtype: object\n"
     ]
    }
   ],
   "source": [
    "print(\"Кол-во стран, где 'tsunami' = 1 :\", len(earthquake_data.loc[earthquake_data['tsunami'] == 1, 'country'].drop_duplicates().dropna()))\n",
    "print(\"Список стран, где 'tsunami' = 1 :\")\n",
    "print(earthquake_data.loc[earthquake_data['tsunami'] == 1, 'country'].drop_duplicates().dropna())"
   ]
  },
  {
   "attachments": {},
   "cell_type": "markdown",
   "metadata": {},
   "source": [
    "- Проверьте, есть ли землетрясения с параметром `tsunami == 1` в России? Если есть, выведите название (`title`) любого из них"
   ]
  },
  {
   "cell_type": "code",
   "execution_count": 9,
   "metadata": {},
   "outputs": [
    {
     "data": {
      "text/plain": [
       "106    M 7.0 - 95 km ENE of Kuril’sk, Russia\n",
       "Name: title, dtype: object"
      ]
     },
     "execution_count": 9,
     "metadata": {},
     "output_type": "execute_result"
    }
   ],
   "source": [
    "earthquake_data.loc[(earthquake_data[\"country\"]==\"Russia\") & (earthquake_data[\"tsunami\"]==1)][\"title\"].head(1)"
   ]
  },
  {
   "attachments": {},
   "cell_type": "markdown",
   "metadata": {},
   "source": [
    "- Найдите количество пропусков в данных (для каждого признака)"
   ]
  },
  {
   "cell_type": "code",
   "execution_count": 10,
   "metadata": {},
   "outputs": [
    {
     "data": {
      "text/plain": [
       "title          0\n",
       "magnitude      0\n",
       "date_time      0\n",
       "cdi            0\n",
       "mmi            0\n",
       "alert        367\n",
       "tsunami        0\n",
       "sig            0\n",
       "net            0\n",
       "nst            0\n",
       "dmin           0\n",
       "gap            0\n",
       "magType        0\n",
       "depth          0\n",
       "latitude       0\n",
       "longitude      0\n",
       "location       5\n",
       "continent    576\n",
       "country      298\n",
       "dtype: int64"
      ]
     },
     "execution_count": 10,
     "metadata": {},
     "output_type": "execute_result"
    }
   ],
   "source": [
    "earthquake_data.isna().sum()"
   ]
  },
  {
   "attachments": {},
   "cell_type": "markdown",
   "metadata": {},
   "source": [
    "- Колонка `gap` содержит значение азимутального угла в градусах. Переведите эти значения в радианы, используя  `apply` или `map`. Проверьте, что значения в соответствующей колонке действительно изменились."
   ]
  },
  {
   "cell_type": "code",
   "execution_count": 19,
   "metadata": {},
   "outputs": [
    {
     "name": "stdout",
     "output_type": "stream",
     "text": [
      "Значения в градусах:\n",
      "\n",
      "                                          title  magnitude         date_time   \n",
      "0  M 7.0 - 18 km SW of Malango, Solomon Islands        7.0  22-11-2022 02:03  \\\n",
      "1      M 6.9 - 204 km SW of Bengkulu, Indonesia        6.9  18-11-2022 13:37   \n",
      "\n",
      "   cdi  mmi  alert  tsunami  sig net  nst   dmin           gap magType  depth   \n",
      "0    8    7  green        1  768  us  117  0.509  1.463753e-13     mww   14.0  \\\n",
      "1    4    4  green        0  735  us   99  2.229  2.927506e-13     mww   25.0   \n",
      "\n",
      "   latitude  longitude                  location continent          country  \n",
      "0   -9.7963    159.596  Malango, Solomon Islands   Oceania  Solomon Islands  \n",
      "1   -4.9559    100.738       Bengkulu, Indonesia       NaN              NaN  \n",
      "\n",
      "----------------------------------------------------------------------------------------------------\n",
      "\n",
      "Значения в радианах:\n",
      "\n",
      "                                          title  magnitude         date_time   \n",
      "0  M 7.0 - 18 km SW of Malango, Solomon Islands        7.0  22-11-2022 02:03  \\\n",
      "1      M 6.9 - 204 km SW of Bengkulu, Indonesia        6.9  18-11-2022 13:37   \n",
      "\n",
      "   cdi  mmi  alert  tsunami  sig net  nst   dmin           gap magType  depth   \n",
      "0    8    7  green        1  768  us  117  0.509  2.554731e-15     mww   14.0  \\\n",
      "1    4    4  green        0  735  us   99  2.229  5.109463e-15     mww   25.0   \n",
      "\n",
      "   latitude  longitude                  location continent          country  \n",
      "0   -9.7963    159.596  Malango, Solomon Islands   Oceania  Solomon Islands  \n",
      "1   -4.9559    100.738       Bengkulu, Indonesia       NaN              NaN  \n"
     ]
    }
   ],
   "source": [
    "print(\"Значения в градусах:\\n\")\n",
    "print(earthquake_data.head(2))\n",
    "earthquake_data[\"gap\"] = earthquake_data[\"gap\"].map(lambda x: np.radians(x))\n",
    "print('\\n----------------------------------------------------------------------------------------------------\\n')\n",
    "print(\"Значения в радианах:\\n\")\n",
    "print(earthquake_data.head(2))"
   ]
  },
  {
   "attachments": {},
   "cell_type": "markdown",
   "metadata": {},
   "source": [
    "- Найдите самую северную и самую южную точки, в которых было зафиксировано землетрясение"
   ]
  },
  {
   "cell_type": "code",
   "execution_count": 23,
   "metadata": {},
   "outputs": [
    {
     "name": "stdout",
     "output_type": "stream",
     "text": [
      "Самая северная точка:\n",
      "                                                  title  magnitude   \n",
      "149  M 6.7 - 120 km NW of Olonkinbyen, Svalbard and...        6.7  \\\n",
      "\n",
      "            date_time  cdi  mmi  alert  tsunami  sig net  nst   dmin   \n",
      "149  09-11-2018 01:49    3    4  green        1  693  us    0  7.853  \\\n",
      "\n",
      "              gap magType  depth  latitude  longitude   \n",
      "149  2.855288e-15     mww   10.0   71.6312   -11.2431  \\\n",
      "\n",
      "                                location continent country  \n",
      "149  Olonkinbyen, Svalbard and Jan Mayen       NaN     NaN  \n",
      "\n",
      "----------------------------------------------------------------------------------------\n",
      "\n",
      "Самая южная точка:\n",
      "                              title  magnitude         date_time  cdi  mmi   \n",
      "79  M 6.9 - South Shetland Islands        6.9  23-01-2021 23:36    9    5  \\\n",
      "\n",
      "    alert  tsunami  sig net  nst  dmin           gap magType  depth  latitude   \n",
      "79  green        1  739  us    0  1.55  2.404453e-15     mww   15.0  -61.8484  \\\n",
      "\n",
      "    longitude                location continent     country  \n",
      "79    -55.559  South Shetland Islands       NaN  Antarctica  \n"
     ]
    }
   ],
   "source": [
    "print(\"Самая северная точка:\\n\", earthquake_data.loc[earthquake_data[\"latitude\"] == earthquake_data[\"latitude\"].max()])\n",
    "print(\"\\n----------------------------------------------------------------------------------------\\n\")\n",
    "print(\"Самая южная точка:\\n\", earthquake_data.loc[earthquake_data[\"latitude\"] == earthquake_data[\"latitude\"].min()])"
   ]
  },
  {
   "attachments": {},
   "cell_type": "markdown",
   "metadata": {},
   "source": [
    "- В какой стране наблюдалось больше всего землетрясений?"
   ]
  },
  {
   "cell_type": "code",
   "execution_count": 24,
   "metadata": {},
   "outputs": [
    {
     "name": "stdout",
     "output_type": "stream",
     "text": [
      "Больше всего землетрясений:\n",
      "\n",
      "Indonesia\n"
     ]
    }
   ],
   "source": [
    "print(\"Больше всего землетрясений:\\n\")\n",
    "print(earthquake_data[\"country\"].value_counts().idxmax())"
   ]
  },
  {
   "attachments": {},
   "cell_type": "markdown",
   "metadata": {},
   "source": [
    "- В исходном датасете есть колонка `date_time`, в которой записаны дата и время события. Создайте две новые колонки `date` и `time`, в которых отдельно будет содержаться информация о дате и времени землетрясения. После этого удалите исходную колонку `date_time` из датафрейма."
   ]
  },
  {
   "cell_type": "code",
   "execution_count": null,
   "metadata": {},
   "outputs": [
    {
     "data": {
      "text/html": [
       "<div>\n",
       "<style scoped>\n",
       "    .dataframe tbody tr th:only-of-type {\n",
       "        vertical-align: middle;\n",
       "    }\n",
       "\n",
       "    .dataframe tbody tr th {\n",
       "        vertical-align: top;\n",
       "    }\n",
       "\n",
       "    .dataframe thead th {\n",
       "        text-align: right;\n",
       "    }\n",
       "</style>\n",
       "<table border=\"1\" class=\"dataframe\">\n",
       "  <thead>\n",
       "    <tr style=\"text-align: right;\">\n",
       "      <th></th>\n",
       "      <th>title</th>\n",
       "      <th>magnitude</th>\n",
       "      <th>cdi</th>\n",
       "      <th>mmi</th>\n",
       "      <th>alert</th>\n",
       "      <th>tsunami</th>\n",
       "      <th>sig</th>\n",
       "      <th>net</th>\n",
       "      <th>nst</th>\n",
       "      <th>dmin</th>\n",
       "      <th>gap</th>\n",
       "      <th>magType</th>\n",
       "      <th>depth</th>\n",
       "      <th>latitude</th>\n",
       "      <th>longitude</th>\n",
       "      <th>location</th>\n",
       "      <th>continent</th>\n",
       "      <th>country</th>\n",
       "      <th>date</th>\n",
       "      <th>time</th>\n",
       "    </tr>\n",
       "  </thead>\n",
       "  <tbody>\n",
       "    <tr>\n",
       "      <th>0</th>\n",
       "      <td>M 7.0 - 18 km SW of Malango, Solomon Islands</td>\n",
       "      <td>7.0</td>\n",
       "      <td>8</td>\n",
       "      <td>7</td>\n",
       "      <td>green</td>\n",
       "      <td>1</td>\n",
       "      <td>768</td>\n",
       "      <td>us</td>\n",
       "      <td>117</td>\n",
       "      <td>0.509</td>\n",
       "      <td>2.554731e-15</td>\n",
       "      <td>mww</td>\n",
       "      <td>14.000</td>\n",
       "      <td>-9.7963</td>\n",
       "      <td>159.596</td>\n",
       "      <td>Malango, Solomon Islands</td>\n",
       "      <td>Oceania</td>\n",
       "      <td>Solomon Islands</td>\n",
       "      <td>22-11-2022</td>\n",
       "      <td>02:03</td>\n",
       "    </tr>\n",
       "    <tr>\n",
       "      <th>1</th>\n",
       "      <td>M 6.9 - 204 km SW of Bengkulu, Indonesia</td>\n",
       "      <td>6.9</td>\n",
       "      <td>4</td>\n",
       "      <td>4</td>\n",
       "      <td>green</td>\n",
       "      <td>0</td>\n",
       "      <td>735</td>\n",
       "      <td>us</td>\n",
       "      <td>99</td>\n",
       "      <td>2.229</td>\n",
       "      <td>5.109463e-15</td>\n",
       "      <td>mww</td>\n",
       "      <td>25.000</td>\n",
       "      <td>-4.9559</td>\n",
       "      <td>100.738</td>\n",
       "      <td>Bengkulu, Indonesia</td>\n",
       "      <td>NaN</td>\n",
       "      <td>NaN</td>\n",
       "      <td>18-11-2022</td>\n",
       "      <td>13:37</td>\n",
       "    </tr>\n",
       "    <tr>\n",
       "      <th>2</th>\n",
       "      <td>M 7.0 -</td>\n",
       "      <td>7.0</td>\n",
       "      <td>3</td>\n",
       "      <td>3</td>\n",
       "      <td>green</td>\n",
       "      <td>1</td>\n",
       "      <td>755</td>\n",
       "      <td>us</td>\n",
       "      <td>147</td>\n",
       "      <td>3.125</td>\n",
       "      <td>2.705010e-15</td>\n",
       "      <td>mww</td>\n",
       "      <td>579.000</td>\n",
       "      <td>-20.0508</td>\n",
       "      <td>-178.346</td>\n",
       "      <td>NaN</td>\n",
       "      <td>Oceania</td>\n",
       "      <td>Fiji</td>\n",
       "      <td>12-11-2022</td>\n",
       "      <td>07:09</td>\n",
       "    </tr>\n",
       "    <tr>\n",
       "      <th>3</th>\n",
       "      <td>M 7.3 - 205 km ESE of Neiafu, Tonga</td>\n",
       "      <td>7.3</td>\n",
       "      <td>5</td>\n",
       "      <td>5</td>\n",
       "      <td>green</td>\n",
       "      <td>1</td>\n",
       "      <td>833</td>\n",
       "      <td>us</td>\n",
       "      <td>149</td>\n",
       "      <td>1.865</td>\n",
       "      <td>3.155845e-15</td>\n",
       "      <td>mww</td>\n",
       "      <td>37.000</td>\n",
       "      <td>-19.2918</td>\n",
       "      <td>-172.129</td>\n",
       "      <td>Neiafu, Tonga</td>\n",
       "      <td>NaN</td>\n",
       "      <td>NaN</td>\n",
       "      <td>11-11-2022</td>\n",
       "      <td>10:48</td>\n",
       "    </tr>\n",
       "    <tr>\n",
       "      <th>4</th>\n",
       "      <td>M 6.6 -</td>\n",
       "      <td>6.6</td>\n",
       "      <td>0</td>\n",
       "      <td>2</td>\n",
       "      <td>green</td>\n",
       "      <td>1</td>\n",
       "      <td>670</td>\n",
       "      <td>us</td>\n",
       "      <td>131</td>\n",
       "      <td>4.998</td>\n",
       "      <td>4.057514e-15</td>\n",
       "      <td>mww</td>\n",
       "      <td>624.464</td>\n",
       "      <td>-25.5948</td>\n",
       "      <td>178.278</td>\n",
       "      <td>NaN</td>\n",
       "      <td>NaN</td>\n",
       "      <td>NaN</td>\n",
       "      <td>09-11-2022</td>\n",
       "      <td>10:14</td>\n",
       "    </tr>\n",
       "  </tbody>\n",
       "</table>\n",
       "</div>"
      ],
      "text/plain": [
       "                                          title  magnitude  cdi  mmi  alert   \n",
       "0  M 7.0 - 18 km SW of Malango, Solomon Islands        7.0    8    7  green  \\\n",
       "1      M 6.9 - 204 km SW of Bengkulu, Indonesia        6.9    4    4  green   \n",
       "2                                      M 7.0 -         7.0    3    3  green   \n",
       "3           M 7.3 - 205 km ESE of Neiafu, Tonga        7.3    5    5  green   \n",
       "4                                      M 6.6 -         6.6    0    2  green   \n",
       "\n",
       "   tsunami  sig net  nst   dmin           gap magType    depth  latitude   \n",
       "0        1  768  us  117  0.509  2.554731e-15     mww   14.000   -9.7963  \\\n",
       "1        0  735  us   99  2.229  5.109463e-15     mww   25.000   -4.9559   \n",
       "2        1  755  us  147  3.125  2.705010e-15     mww  579.000  -20.0508   \n",
       "3        1  833  us  149  1.865  3.155845e-15     mww   37.000  -19.2918   \n",
       "4        1  670  us  131  4.998  4.057514e-15     mww  624.464  -25.5948   \n",
       "\n",
       "   longitude                  location continent          country        date   \n",
       "0    159.596  Malango, Solomon Islands   Oceania  Solomon Islands  22-11-2022  \\\n",
       "1    100.738       Bengkulu, Indonesia       NaN              NaN  18-11-2022   \n",
       "2   -178.346                       NaN   Oceania             Fiji  12-11-2022   \n",
       "3   -172.129             Neiafu, Tonga       NaN              NaN  11-11-2022   \n",
       "4    178.278                       NaN       NaN              NaN  09-11-2022   \n",
       "\n",
       "    time  \n",
       "0  02:03  \n",
       "1  13:37  \n",
       "2  07:09  \n",
       "3  10:48  \n",
       "4  10:14  "
      ]
     },
     "execution_count": 25,
     "metadata": {},
     "output_type": "execute_result"
    }
   ],
   "source": [
    "earthquake_data[[\"date\", \"time\"]] = earthquake_data[\"date_time\"].str.split(' ', expand=True)\n",
    "earthquake_data = earthquake_data.drop([\"date_time\"], axis=1)\n",
    "\n",
    "earthquake_data.head()"
   ]
  }
 ],
 "metadata": {
  "kernelspec": {
   "display_name": "Python 3",
   "language": "python",
   "name": "python3"
  },
  "language_info": {
   "codemirror_mode": {
    "name": "ipython",
    "version": 3
   },
   "file_extension": ".py",
   "mimetype": "text/x-python",
   "name": "python",
   "nbconvert_exporter": "python",
   "pygments_lexer": "ipython3",
   "version": "3.11.1"
  },
  "orig_nbformat": 4
 },
 "nbformat": 4,
 "nbformat_minor": 2
}
