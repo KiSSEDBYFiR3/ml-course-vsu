{
 "cells": [
  {
   "attachments": {},
   "cell_type": "markdown",
   "metadata": {},
   "source": [
    "# Задание 2. Бинарная классификация.\n",
    "В этом задании вам предстоит пройти путь от анализа и обработки данных до построения модели машинного обучения для решения задачи бинарной классификации.\n",
    "\n",
    "**Датасет**: космический корабль «Титаник» с почти 13 000 пассажирами на борту отправился в свой первый рейс, чтобы доставить эмигрантов из нашей Солнечной системы к трем новым обитаемым экзопланетам, вращающимся вокруг ближайших звезд. К сожалению, по пути судно натолкнулось на пространственно-временную аномалию, вследствие чего почти половина пассажиров была перенесена в другое измерение! Чтобы помочь спасателям, необходимо на основе имеющихся сведений научиться предсказывать, кто из пассажиров был перенесен, а кто остался на корабле. [Ссылка](https://www.kaggle.com/competitions/spaceship-titanic) на страницу соревнования на Kaggle.\n",
    "\n",
    "**Описание признаков:**\n",
    "\n",
    "- `PassengerId`: уникальный ID для каждого пассажира. Каждый идентификатор имеет формат gggg_pp, где gggg указывает группу, с которой путешествует пассажир, а pp — его номер в группе. Люди в группе часто являются членами семьи, но не всегда.\n",
    "- `HomePlanet`: планета, с которой пассажир отправился в путешествие\n",
    "- `CryoSleep`: указывает, был ли пассажир быть переведен в режим анабиоза на время рейса.\n",
    "- `Cabin`: номер кабины.\n",
    "- `Destination`: планета назначения.\n",
    "- `Age`: возраст.\n",
    "- `VIP`: оплатил ли пассажир специальное VIP-обслуживание во время рейса.\n",
    "- `RoomService`, `FoodCourt`, `ShoppingMall`, `Spa`, `VRDeck`: сумма, которую пассажир заплатил за различные удобства на борту.\n",
    "- `Name`: Имя и фамилия.\n",
    "- `Transported`: был ли пассажир перенесен в другое измерение. Это целевая переменная, которую необходимо предсказать."
   ]
  },
  {
   "attachments": {},
   "cell_type": "markdown",
   "metadata": {},
   "source": [
    "- Импортируйте необходимые библиотеки. Загрузите датасет и отобразите первые несколько объектов, установите колонку `PassengerId` в качестве индекса. Разбейте для удобства исходный датафрейм на матрицу объектов-признаков $X$ и целевую переменную $y$"
   ]
  },
  {
   "cell_type": "code",
   "execution_count": 31,
   "metadata": {},
   "outputs": [
    {
     "name": "stdout",
     "output_type": "stream",
     "text": [
      "            HomePlanet CryoSleep  Cabin  Destination   Age    VIP   \n",
      "PassengerId                                                         \n",
      "0001_01         Europa     False  B/0/P  TRAPPIST-1e  39.0  False  \\\n",
      "0002_01          Earth     False  F/0/S  TRAPPIST-1e  24.0  False   \n",
      "0003_01         Europa     False  A/0/S  TRAPPIST-1e  58.0   True   \n",
      "0003_02         Europa     False  A/0/S  TRAPPIST-1e  33.0  False   \n",
      "0004_01          Earth     False  F/1/S  TRAPPIST-1e  16.0  False   \n",
      "\n",
      "             RoomService  FoodCourt  ShoppingMall     Spa  VRDeck   \n",
      "PassengerId                                                         \n",
      "0001_01              0.0        0.0           0.0     0.0     0.0  \\\n",
      "0002_01            109.0        9.0          25.0   549.0    44.0   \n",
      "0003_01             43.0     3576.0           0.0  6715.0    49.0   \n",
      "0003_02              0.0     1283.0         371.0  3329.0   193.0   \n",
      "0004_01            303.0       70.0         151.0   565.0     2.0   \n",
      "\n",
      "                          Name  Transported  \n",
      "PassengerId                                  \n",
      "0001_01        Maham Ofracculy        False  \n",
      "0002_01           Juanna Vines         True  \n",
      "0003_01          Altark Susent        False  \n",
      "0003_02           Solam Susent        False  \n",
      "0004_01      Willy Santantines         True  \n"
     ]
    }
   ],
   "source": [
    "import pandas as pd\n",
    "import matplotlib.pyplot as plt\n",
    "import seaborn as sns\n",
    "from sklearn.model_selection import train_test_split\n",
    "from sklearn.preprocessing import StandardScaler\n",
    "from sklearn.linear_model import LogisticRegression\n",
    "from sklearn.metrics import accuracy_score\n",
    "from sklearn.impute import SimpleImputer\n",
    "from sklearn.svm import SVC\n",
    "\n",
    "data = pd.read_csv('train.csv')\n",
    "index = data['PassengerId']\n",
    "data.index = index\n",
    "data = data.drop(['PassengerId'], axis=1)\n",
    "\n",
    "\n",
    "print(data.head())\n",
    "\n",
    "x = data.drop('Transported', axis=1)\n",
    "y = data['Transported']"
   ]
  },
  {
   "attachments": {},
   "cell_type": "markdown",
   "metadata": {},
   "source": [
    "- Для задания нам не понадобятся признаки `Cabin` и `Name`, отбросьте их. Отобразите, сколько признаков у нас осталось и сколько всего объектов в датасете."
   ]
  },
  {
   "cell_type": "code",
   "execution_count": 32,
   "metadata": {},
   "outputs": [
    {
     "name": "stdout",
     "output_type": "stream",
     "text": [
      "Количество признаков: 10\n",
      "Количество объектов: 8693\n"
     ]
    }
   ],
   "source": [
    "x = x.drop(['Cabin', 'Name'], axis=1)\n",
    "\n",
    "print(f\"Количество признаков: {len(x.columns)}\")\n",
    "print(f\"Количество объектов: {len(x)}\")"
   ]
  },
  {
   "attachments": {},
   "cell_type": "markdown",
   "metadata": {},
   "source": [
    "### Визуализация данных\n",
    "\n",
    "Можете пользоваться как matplotlib, так и Seaborn"
   ]
  },
  {
   "attachments": {},
   "cell_type": "markdown",
   "metadata": {},
   "source": [
    "- Нарисуйте столбчатую диаграмму для признака `HomePlanet`. С какой планеты отправилось больше всего пассажиров?"
   ]
  },
  {
   "cell_type": "code",
   "execution_count": 33,
   "metadata": {},
   "outputs": [
    {
     "data": {
      "image/png": "[encoded data removed]",
      "text/plain": [
       "<Figure size 1200x600 with 1 Axes>"
      ]
     },
     "metadata": {},
     "output_type": "display_data"
    },
    {
     "name": "stdout",
     "output_type": "stream",
     "text": [
      "Больше всего пассажиров отправилось с планеты Earth\n"
     ]
    }
   ],
   "source": [
    "# Построение столбчатой диаграммы для признака HomePlanet\n",
    "plt.figure(figsize=(12,6))\n",
    "x['HomePlanet'].value_counts().plot(kind='bar')\n",
    "plt.title('Количество пассажиров по планетам отправления')\n",
    "plt.xlabel('Планета отправления')\n",
    "plt.ylabel('Количество пассажиров')\n",
    "plt.show()\n",
    "\n",
    "# Определение планеты, с которой отправилось больше всего пассажиров\n",
    "print(f\"Больше всего пассажиров отправилось с планеты {x['HomePlanet'].value_counts().idxmax()}\")"
   ]
  },
  {
   "attachments": {},
   "cell_type": "markdown",
   "metadata": {},
   "source": [
    "- Отобразите распределение таргета целевой переменной. Что можно о нем сказать? Оправдано ли использование метрики Accuracy в данной задаче?"
   ]
  },
  {
   "cell_type": "code",
   "execution_count": 34,
   "metadata": {},
   "outputs": [
    {
     "name": "stderr",
     "output_type": "stream",
     "text": [
      "<__array_function__ internals>:180: RuntimeWarning: Converting input from bool to <class 'numpy.uint8'> for compatibility.\n"
     ]
    },
    {
     "data": {
      "image/png": "[encoded data removed]",
      "text/plain": [
       "<Figure size 600x600 with 1 Axes>"
      ]
     },
     "metadata": {},
     "output_type": "display_data"
    },
    {
     "name": "stdout",
     "output_type": "stream",
     "text": [
      "Распределение целевой переменной:\n",
      "Значение 0: 4378\n",
      "Значение 1: 4315\n"
     ]
    }
   ],
   "source": [
    "plt.figure(figsize=(6,6))\n",
    "sns.histplot(y='Transported', data=data, color='b')\n",
    "plt.title('Распределение целевой переменной')\n",
    "plt.ylabel('Transported')\n",
    "plt.show()\n",
    "\n",
    "\n",
    "transported_counts = data['Transported'].value_counts()\n",
    "print(\"Распределение целевой переменной:\")\n",
    "print(f\"Значение 0: {transported_counts[0]}\")\n",
    "print(f\"Значение 1: {transported_counts[1]}\")\n",
    "\n",
    "\n",
    "# Как видно из распределения количество перенесенных и неперенесенных пассажиров примерно равно, поэтому можно сделать вывод, что в данном случае оправдано использовать метрику Accuracy."
   ]
  },
  {
   "attachments": {},
   "cell_type": "markdown",
   "metadata": {},
   "source": [
    "- Постройте распределения признаков `Age`, `RoomService` и `ShoppingMall` и найдите для каждого из них среднее, медиану, среднеквадратическое отклонение и 0.9-квантиль."
   ]
  },
  {
   "cell_type": "code",
   "execution_count": 35,
   "metadata": {},
   "outputs": [
    {
     "data": {
      "image/png": "[encoded data removed]",
      "text/plain": [
       "<Figure size 640x480 with 1 Axes>"
      ]
     },
     "metadata": {},
     "output_type": "display_data"
    },
    {
     "name": "stdout",
     "output_type": "stream",
     "text": [
      "Среднее значение:  173.72916912197996\n",
      "Медиана:  0.0\n",
      "Среднеквадратическое отклонение:  604.6964584708243\n",
      "0.9-квантиль:  619.6000000000004\n"
     ]
    }
   ],
   "source": [
    "sns.histplot(x['ShoppingMall'], kde=True)\n",
    "plt.title(\"Распределение признака ShoppingMall\")\n",
    "plt.ylim([0, 100])\n",
    "plt.show()\n",
    "print(\"Среднее значение: \", x['ShoppingMall'].mean())\n",
    "print(\"Медиана: \", x['ShoppingMall'].median())\n",
    "print(\"Среднеквадратическое отклонение: \", x['ShoppingMall'].std())\n",
    "print(\"0.9-квантиль: \", x['ShoppingMall'].quantile(q=0.9))"
   ]
  },
  {
   "attachments": {},
   "cell_type": "markdown",
   "metadata": {},
   "source": [
    "### Подготовка данных"
   ]
  },
  {
   "attachments": {},
   "cell_type": "markdown",
   "metadata": {},
   "source": [
    "- Для проверки работы модели будем использовать **валидацию на отложенной выборке**: часть данных будет использоваться для тренировки алгоритма, другая (меньшая) часть для валидации.\n",
    "\n",
    "    Воспользуйтесь функцией `train_test_split` из библиотеки scikit-learn для разделения исходных $X$ и $y$ на тренировочные и валидационные данные. Размер валидационной выборки установите равным 20 процентам от общего размера выборки."
   ]
  },
  {
   "cell_type": "code",
   "execution_count": 36,
   "metadata": {},
   "outputs": [],
   "source": [
    "x_train, x_val, y_train, y_val = train_test_split(x, y, test_size=0.2, random_state=42)"
   ]
  },
  {
   "attachments": {},
   "cell_type": "markdown",
   "metadata": {},
   "source": [
    "- Некоторые функции преобразования зависят от состава выборки. Как мы увидим далее, кодирование категориальных данных может зависеть от частоты появления той или иной категории в датасете, параметры StandartScaler также зависят от тренировочной выборки и т.д. Правильным подходом является \"настройка\" всех функций преобразований на тренировочном датасете, а затем применение их на валидационном датасете (подобно тому, как мы обучаем модель на трейне, а на валидационных данных только проверяем). Если применить все преобразования перед разделением датасета на train и validation, то мы столкнемся с проблемой **утечки данных (data leakage)**. В таком случае оценка нашей модели будет не совсем честной и искаженной (пусть даже если и немного). \n",
    "\n",
    "    В заданиях ниже необходимо будет преобразовывать как $X_{train}$, так и $X_{val}$\n",
    "  \n",
    "    Определите, какие из категориальных признаков в данных являются бинарными (принимают два значения). Преобразуйте их так, чтобы они принимали значения $0$ или $1$. Если в колонке имеются пропуски, замените их наиболее часто встречающимся значением (модой) в тренировочном датасете."
   ]
  },
  {
   "cell_type": "code",
   "execution_count": 37,
   "metadata": {},
   "outputs": [
    {
     "name": "stdout",
     "output_type": "stream",
     "text": [
      "PassengerId\n",
      "2513_01    0\n",
      "2774_02    0\n",
      "8862_04    1\n",
      "8736_02    0\n",
      "0539_02    1\n",
      "          ..\n",
      "6076_01    0\n",
      "5537_01    0\n",
      "5756_06    0\n",
      "0925_01    0\n",
      "7775_01    0\n",
      "Name: CryoSleep, Length: 6954, dtype: int32\n",
      "PassengerId\n",
      "2513_01    0\n",
      "2774_02    0\n",
      "8862_04    0\n",
      "8736_02    0\n",
      "0539_02    0\n",
      "          ..\n",
      "6076_01    0\n",
      "5537_01    0\n",
      "5756_06    0\n",
      "0925_01    0\n",
      "7775_01    0\n",
      "Name: VIP, Length: 6954, dtype: int32\n",
      "------------------------------\n",
      "PassengerId\n",
      "0337_02    0\n",
      "2891_01    0\n",
      "8998_01    1\n",
      "1771_01    0\n",
      "9034_02    1\n",
      "          ..\n",
      "7656_01    1\n",
      "3437_02    1\n",
      "1384_01    0\n",
      "6300_01    1\n",
      "6442_01    0\n",
      "Name: CryoSleep, Length: 1739, dtype: int32\n",
      "PassengerId\n",
      "0337_02    0\n",
      "2891_01    0\n",
      "8998_01    0\n",
      "1771_01    0\n",
      "9034_02    0\n",
      "          ..\n",
      "7656_01    0\n",
      "3437_02    0\n",
      "1384_01    0\n",
      "6300_01    0\n",
      "6442_01    0\n",
      "Name: VIP, Length: 1739, dtype: int32\n"
     ]
    }
   ],
   "source": [
    "binary_cols = ['CryoSleep', 'VIP']\n",
    "\n",
    "mode = x_train[binary_cols].mode().iloc[0]\n",
    "x_train[binary_cols] = x_train[binary_cols].fillna(mode)\n",
    "x_val[binary_cols] = x_val[binary_cols].fillna(mode)\n",
    "x_train[binary_cols] = x_train[binary_cols].astype(int)\n",
    "x_val[binary_cols] = x_val[binary_cols].astype(int)\n",
    "\n",
    "print(x_train['CryoSleep'])\n",
    "print(x_train['VIP'])\n",
    "print('------------------------------')\n",
    "print(x_val['CryoSleep'])\n",
    "print(x_val['VIP'])"
   ]
  },
  {
   "attachments": {},
   "cell_type": "markdown",
   "metadata": {},
   "source": [
    "- На лекции мы рассматривали один из самых распространенных и простых методов кодирования категориальных данных - **one-hot кодирование**. Мы использовали его, когда признак мог принимать несколько (больше двух) значений. Одним из минусов этого алгоритма является то, что мы добавляем новые колонки в наш датасет, тем самым расширяя признаковое пространство при неизменном количестве исходных объектов.\n",
    "\n",
    "    Рассмотрим другой метод кодирования категориальных данных - **Frequency Encoding (частотное кодирование**). В этом подходе каждая категория (рассматриваем некоторый признак) заменяется на число, равное количеству объектов с этим значением категории делённое на количество всех объектов. Иными словами мы пытаемся найти, насколько часто соответствующая категория встречается в наших данных. Пример работы алгоритма:\n",
    "\n",
    "    <center><img src=\"freq_enc_example.png\" alt=\"drawing\" width=\"200\"/></center>\n",
    "\n",
    "    Данный метод достаточно прост и эффективен в использовании, он также не создает множество новых признаков в отличие от one-hot кодировани. Однако есть и минус: если две или несколько категорий встречаются в данных примерно одинаковое количество раз, то и закодированные величины будут очень близки друг к другу. Это может привести к тому, что для модели будет тяжелее выявить отличия между категориями.\n",
    "\n",
    "    **Реализуйте функцию**, которая будет принимать на вход тренировочный и валидационный датафреймы и список колонок для преобразования. Обратите внимание, что **в колонках могут быть пропущенные значения** (NaN), обработайте их так, будто это еще одна дополнительная категория (например, если бы в примере выше помимо цветов была еще категория 'NaN'). Преобразуйте с помощью этой функции колонки, в которых больше двух категорий. Использовать готовые реализации алгоритма нельзя."
   ]
  },
  {
   "cell_type": "code",
   "execution_count": 38,
   "metadata": {},
   "outputs": [],
   "source": [
    "def freq_enc(x_train, x_val, col_enc):\n",
    "    for col in col_enc:\n",
    "        x_train[col] = x_train[col].fillna('NaN')\n",
    "        x_val[col] = x_val[col].fillna('NaN')\n",
    "        freq_dict = x_train[col].value_counts(normalize=True).to_dict()\n",
    "        x_train[col] = x_train[col].apply(lambda x: freq_dict.get(x, 0))\n",
    "        x_val[col] = x_val[col].apply(lambda x: freq_dict.get(x, 0))\n",
    "    return x_train, x_val\n"
   ]
  },
  {
   "attachments": {},
   "cell_type": "markdown",
   "metadata": {},
   "source": [
    "- На данном этапе у вас не должно остаться пропусков в категориальных признаках. Заполните пропуски в оставшихся колонках медианным значением соответствующего признака. Удостоверьтесь, что у вас больше нет пропусков ни в каком признаке."
   ]
  },
  {
   "cell_type": "code",
   "execution_count": 39,
   "metadata": {},
   "outputs": [
    {
     "name": "stdout",
     "output_type": "stream",
     "text": [
      "HomePlanet      0\n",
      "CryoSleep       0\n",
      "Destination     0\n",
      "Age             0\n",
      "VIP             0\n",
      "RoomService     0\n",
      "FoodCourt       0\n",
      "ShoppingMall    0\n",
      "Spa             0\n",
      "VRDeck          0\n",
      "dtype: int64\n",
      "--------------\n",
      "HomePlanet      0\n",
      "CryoSleep       0\n",
      "Destination     0\n",
      "Age             0\n",
      "VIP             0\n",
      "RoomService     0\n",
      "FoodCourt       0\n",
      "ShoppingMall    0\n",
      "Spa             0\n",
      "VRDeck          0\n",
      "dtype: int64\n"
     ]
    }
   ],
   "source": [
    "col_enc = ['HomePlanet', 'Destination']\n",
    "\n",
    "x_train, x_val = freq_enc(x_train, x_val, col_enc)\n",
    "\n",
    "def fill_med(x_train, x_val, num_cols):\n",
    "    for col in num_cols:\n",
    "        train_median = x_train[col].median()\n",
    "        val_median = x_val[col].median()\n",
    "        x_train[col] = x_train[col].fillna(train_median)\n",
    "        x_val[col] = x_val[col].fillna(val_median)\n",
    "    return x_train, x_val\n",
    "\n",
    "num_cols = ['Age', 'RoomService', 'FoodCourt', 'ShoppingMall', 'Spa', 'VRDeck']\n",
    "\n",
    "x_train, x_val = fill_med(x_train, x_val, num_cols)\n",
    "\n",
    "\n",
    "\n",
    "print(x_train.isna().sum())\n",
    "print('--------------')\n",
    "print(x_val.isna().sum())"
   ]
  },
  {
   "attachments": {},
   "cell_type": "markdown",
   "metadata": {},
   "source": [
    "- Воспользуйтесь функцией `StandardScaler`, чтобы отмасштабировать данные по формуле $z = (x - \\mu)/\\sigma$, где $\\mu$ - среднее значение тренировочных объектов, $\\sigma$ - среднеквадратическое отклонение. Не забывайте, что настройка Scaler'а также производится на тренировочном датасете."
   ]
  },
  {
   "cell_type": "code",
   "execution_count": 40,
   "metadata": {},
   "outputs": [],
   "source": [
    "scaler = StandardScaler()\n",
    "scaler.fit(x_train)\n",
    "x_train = scaler.transform(x_train)\n",
    "x_val = scaler.transform(x_val)"
   ]
  },
  {
   "attachments": {},
   "cell_type": "markdown",
   "metadata": {},
   "source": [
    "### Обучение и выбор модели"
   ]
  },
  {
   "attachments": {},
   "cell_type": "markdown",
   "metadata": {},
   "source": [
    "- Данные подготовлены, теперь пришло время переходить к построению модели. Оцените качество логистической регрессии с $L2$-регуляризацией (sklearn.linear_model.LogisticRegression) и метода опорных векторов с ядром `rbf` (sklearn.svm.SVC). Задайте некоторый диапазон для гиперпараметров и найдите, при каких из них метрика качества (будем использовать **Accuracy**) наибольшая. Какой алгоритм показал наилучшие результаты?\n",
    "  \n",
    "  Отобразите лучшее значение метрики и при каких параметрах оно достигается. Добейтесь значения Accuracy не меньше 0.77 хотя бы с одним из алгоритмов."
   ]
  },
  {
   "cell_type": "code",
   "execution_count": 43,
   "metadata": {},
   "outputs": [
    {
     "name": "stdout",
     "output_type": "stream",
     "text": [
      "Лучшая точность: 0.7642 при параметре: {'C': 5}\n"
     ]
    }
   ],
   "source": [
    "model = LogisticRegression(penalty='l2', max_iter=1000, random_state=42)\n",
    "C_regul = [0.000001, 0.00001, 0.0001, 0.001, 0.01, 0.1, 1, 5, 10, 25, 50, 100, 200, 500, 1000]\n",
    "\n",
    "best_score = 0\n",
    "best_params = {}\n",
    "for regul in C_regul:\n",
    "    model.C = regul\n",
    "    model.fit(x_train, y_train)\n",
    "    y_pred = model.predict(x_val)\n",
    "    score = accuracy_score(y_val, y_pred)\n",
    "    if score > best_score:\n",
    "        best_score = score\n",
    "        best_params = {'C': regul}\n",
    "print(f\"Лучшая точность: {best_score:.4f} при параметре: {best_params}\")\n"
   ]
  },
  {
   "cell_type": "code",
   "execution_count": 42,
   "metadata": {},
   "outputs": [
    {
     "name": "stdout",
     "output_type": "stream",
     "text": [
      "Лучшая точность: 0.7821 при параметрах: {'C': 1.5, 'gamma': 1}\n"
     ]
    }
   ],
   "source": [
    "C_values = [0.01, 0.1, 0.5, 1, 1.5, 2, 2.5, 3]\n",
    "gamma_values = [0.01, 0.1, 0.5, 1, 1.5, 2, 2.5]\n",
    "\n",
    "best_score = 0\n",
    "best_params = {}\n",
    "\n",
    "for C in C_values:\n",
    "    for gamma in gamma_values:\n",
    "        clf = SVC(kernel='rbf', C=C, gamma=gamma, random_state=42)\n",
    "        clf.fit(x_train, y_train)\n",
    "        score = clf.score(x_val, y_val)\n",
    "        if score > best_score:\n",
    "            best_score = score\n",
    "            best_params = {'C': C, 'gamma': gamma}\n",
    "\n",
    "print(f'Лучшая точность: {best_score:.4f} при параметрах: {best_params}')"
   ]
  }
 ],
 "metadata": {
  "kernelspec": {
   "display_name": "Python 3",
   "language": "python",
   "name": "python3"
  },
  "language_info": {
   "codemirror_mode": {
    "name": "ipython",
    "version": 3
   },
   "file_extension": ".py",
   "mimetype": "text/x-python",
   "name": "python",
   "nbconvert_exporter": "python",
   "pygments_lexer": "ipython3",
   "version": "3.11.1"
  },
  "orig_nbformat": 4,
  "vscode": {
   "interpreter": {
    "hash": "82ed002fa2d4956f5c6aec99bcefe0f73a9f79882f3c9e2319b14958a5896ac5"
   }
  }
 },
 "nbformat": 4,
 "nbformat_minor": 2
}
